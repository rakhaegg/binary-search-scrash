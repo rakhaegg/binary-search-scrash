{
  "nbformat": 4,
  "nbformat_minor": 0,
  "metadata": {
    "colab": {
      "name": "BinarySearchTree.ipynb",
      "provenance": [],
      "collapsed_sections": [],
      "authorship_tag": "ABX9TyMNdlMqAd+KFU3ERgzElyMf"
    },
    "kernelspec": {
      "name": "python3",
      "display_name": "Python 3"
    },
    "language_info": {
      "name": "python"
    }
  },
  "cells": [
    {
      "cell_type": "code",
      "source": [
        "from queue import Queue\n"
      ],
      "metadata": {
        "id": "QHukY2t-nDZM"
      },
      "execution_count": null,
      "outputs": []
    },
    {
      "cell_type": "code",
      "execution_count": 39,
      "metadata": {
        "id": "Tuq0dFtEyxVY"
      },
      "outputs": [],
      "source": [
        "class Node:\n",
        "  def __init__(self , data , key):\n",
        "    self.parent = None\n",
        "    self.left = None\n",
        "    self.right = None\n",
        "    self.data = data\n",
        "    self.key = key\n",
        "    self.p = None\n",
        "class Tree:\n",
        "  def __init__(self):\n",
        "    self.root = None\n",
        "  def deleteNode(self , key):\n",
        "    current = self.root\n",
        "    print(\"RIGHT  : \" , current.right)\n",
        "    print(\"LEFT : \"  , current.left)\n",
        "    if current.key == key:\n",
        "      temp = current.right\n",
        "      temp.p = None\n",
        "      self.root = temp\n",
        "  def printData(self):\n",
        "    q = Queue()\n",
        "    explored = []\n",
        "    q.put(self.root)\n",
        "    explored.append(self.root)\n",
        "    print(\"KEY : \" , self.root.key)\n",
        "    while q.qsize() != 0:\n",
        "      parent = q.get()  \n",
        "      if parent.left:\n",
        "        if parent.left not in explored:\n",
        "          print(\"LEFT KEY : \" , parent.left.key)\n",
        "          explored.append(parent.left)\n",
        "          q.put(parent.left)\n",
        "      if parent.right:\n",
        "        if parent.right not in explored:\n",
        "          print(\"RIGHT Key : \" , parent.right.key)\n",
        "          explored.append(parent.right)\n",
        "          q.put(parent.right)\n",
        "  def tree_insert(self , z):\n",
        "    y = None\n",
        "    x = self.root\n",
        "    while x != None:\n",
        "      y = x\n",
        "      if z.key < x.key:\n",
        "        x = x.left\n",
        "      else:\n",
        "        x = x.right\n",
        "    z.p = y\n",
        "    if y == None:\n",
        "      print(\"Root\")\n",
        "      self.root = z\n",
        "    elif z.key < y.key:\n",
        "      print(\"Left\")\n",
        "      y.left = z\n",
        "    else:\n",
        "      print(\"Right\")\n",
        "      y.right = z\n",
        "  def tree_minimum(self , x):\n",
        "    while x.left != None:\n",
        "      x = x.left\n",
        "    return x\n",
        "  def tree_maximum(self , x):\n",
        "    while x.right != None:\n",
        "      x = x.right\n",
        "    return x\n",
        "  def tree_successor(self , x):\n",
        "    if x.right != None:\n",
        "      return self.tree_minimum(x.right)\n",
        "    y = x.p\n",
        "    while y != None and x == y.right:\n",
        "        x = y\n",
        "        y = y.p\n",
        "    return y \n",
        "  def inorder_tree_walk(self , x):\n",
        "    if x != None:\n",
        "      self.inorder_tree_walk(x.left)\n",
        "      print(x.key)\n",
        "      self.inorder_tree_walk(x.right)\n",
        "  def tree_search(self , x , k):\n",
        "    if x == None or k == x.key:\n",
        "      return x\n",
        "    if k < x.key:\n",
        "      return self.tree_search(x.left , k)\n",
        "    else:\n",
        "      return self.tree_search(x.right , k)\n",
        "  def iterative_tree_search(self , x , k):\n",
        "    while x != None and k != x.key:\n",
        "      if k < x.key:\n",
        "        x = x.left\n",
        "      else:\n",
        "        x = x.right\n",
        "    return x\n",
        "  def insertData(self , data , key):\n",
        "    newNode = Node(data , key)\n",
        "    if self.root:\n",
        "      current = self.root\n",
        "      \n",
        "      while True:\n",
        "        if current.key > newNode.key:\n",
        "          if current.left == None:\n",
        "            print(\"Left\")\n",
        "            newNode.p = current\n",
        "            current.left = newNode\n",
        "            break\n",
        "          else:\n",
        "            newNode.p = current\n",
        "            current = current.left\n",
        "            continue\n",
        "        if current.key <= newNode.key:\n",
        "          print(\"Current :  \" , current.key)\n",
        "          print(newNode.key)\n",
        "          if current.right == None:\n",
        "            newNode.P = current\n",
        "            current.right = newNode\n",
        "            break\n",
        "          else:\n",
        "            newNode.p = current\n",
        "            current = current.right  \n",
        "            continue\n",
        "    else:\n",
        "      print(\"Root\")\n",
        "      newNode.p = None\n",
        "      self.root = newNode  \n"
      ]
    },
    {
      "cell_type": "code",
      "source": [
        "data = Tree()\n",
        "data.insertData(\"Rakha\" , 12)\n",
        "data.insertData(\"eLnag\" , 5)\n",
        "data.insertData(\"GuNaWan\" , 19)\n",
        "data.insertData(\"rakha\" , 9)\n",
        "data.insertData(\"rakhaas\" , 2)\n",
        "\n",
        "# data.tree_insert(Node(\"qweq231\" , 18))\n",
        "# data.tree_insert(Node(\"t343qq\" , 15))\n",
        "# data.tree_insert(Node(\"qwe231wq\" , 19))\n",
        "# data.tree_insert(Node(\"eqw212\" , 13))\n",
        "# data.tree_insert(Node(\"qwe2312\" , 17))\n",
        "#data.printData()\n",
        "print(data.root.right)\n",
        "#data.deleteNode(12)\n",
        "#data.printData()"
      ],
      "metadata": {
        "colab": {
          "base_uri": "https://localhost:8080/"
        },
        "id": "dTiDnVcdRe_M",
        "outputId": "a4d9387f-f9df-45cf-84fc-9b6f6ade9868"
      },
      "execution_count": 40,
      "outputs": [
        {
          "output_type": "stream",
          "name": "stdout",
          "text": [
            "Root\n",
            "Left\n",
            "Current :  12\n",
            "19\n",
            "Current :  5\n",
            "9\n",
            "Left\n",
            "<__main__.Node object at 0x7faec95d6e90>\n"
          ]
        }
      ]
    },
    {
      "cell_type": "code",
      "source": [
        ""
      ],
      "metadata": {
        "id": "Mc5m2nRdRsL1"
      },
      "execution_count": null,
      "outputs": []
    }
  ]
}